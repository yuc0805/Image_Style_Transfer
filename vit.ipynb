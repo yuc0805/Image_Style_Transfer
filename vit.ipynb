{
 "cells": [
  {
   "cell_type": "code",
   "execution_count": 1,
   "metadata": {},
   "outputs": [
    {
     "name": "stderr",
     "output_type": "stream",
     "text": [
      "Downloading: \"https://github.com/lukemelas/PyTorch-Pretrained-ViT/releases/download/0.0.2/B_16_imagenet1k.pth\" to /Users/chiuchiu/.cache/torch/hub/checkpoints/B_16_imagenet1k.pth\n",
      "100%|██████████| 331M/331M [00:26<00:00, 12.9MB/s] \n"
     ]
    },
    {
     "name": "stdout",
     "output_type": "stream",
     "text": [
      "Loaded pretrained weights.\n"
     ]
    }
   ],
   "source": [
    "from pytorch_pretrained_vit import ViT\n",
    "model = ViT('B_16_imagenet1k', pretrained=True)"
   ]
  },
  {
   "cell_type": "code",
   "execution_count": 2,
   "metadata": {},
   "outputs": [
    {
     "data": {
      "text/plain": [
       "ViT(\n",
       "  (patch_embedding): Conv2d(3, 768, kernel_size=(16, 16), stride=(16, 16))\n",
       "  (positional_embedding): PositionalEmbedding1D()\n",
       "  (transformer): Transformer(\n",
       "    (blocks): ModuleList(\n",
       "      (0-11): 12 x Block(\n",
       "        (attn): MultiHeadedSelfAttention(\n",
       "          (proj_q): Linear(in_features=768, out_features=768, bias=True)\n",
       "          (proj_k): Linear(in_features=768, out_features=768, bias=True)\n",
       "          (proj_v): Linear(in_features=768, out_features=768, bias=True)\n",
       "          (drop): Dropout(p=0.1, inplace=False)\n",
       "        )\n",
       "        (proj): Linear(in_features=768, out_features=768, bias=True)\n",
       "        (norm1): LayerNorm((768,), eps=1e-06, elementwise_affine=True)\n",
       "        (pwff): PositionWiseFeedForward(\n",
       "          (fc1): Linear(in_features=768, out_features=3072, bias=True)\n",
       "          (fc2): Linear(in_features=3072, out_features=768, bias=True)\n",
       "        )\n",
       "        (norm2): LayerNorm((768,), eps=1e-06, elementwise_affine=True)\n",
       "        (drop): Dropout(p=0.1, inplace=False)\n",
       "      )\n",
       "    )\n",
       "  )\n",
       "  (norm): LayerNorm((768,), eps=1e-06, elementwise_affine=True)\n",
       "  (fc): Linear(in_features=768, out_features=1000, bias=True)\n",
       ")"
      ]
     },
     "execution_count": 2,
     "metadata": {},
     "output_type": "execute_result"
    }
   ],
   "source": [
    "model"
   ]
  },
  {
   "cell_type": "code",
   "execution_count": null,
   "metadata": {},
   "outputs": [],
   "source": []
  },
  {
   "cell_type": "code",
   "execution_count": 3,
   "metadata": {},
   "outputs": [],
   "source": [
    "import torch.nn as nn"
   ]
  },
  {
   "cell_type": "code",
   "execution_count": 1,
   "metadata": {},
   "outputs": [
    {
     "name": "stderr",
     "output_type": "stream",
     "text": [
      "/Users/chiuchiu/pytorch-new/env/lib/python3.11/site-packages/torchvision/io/image.py:13: UserWarning: Failed to load image Python extension: 'dlopen(/Users/chiuchiu/pytorch-new/env/lib/python3.11/site-packages/torchvision/image.so, 0x0006): Symbol not found: __ZN3c1017RegisterOperatorsD1Ev\n",
      "  Referenced from: <CFED5F8E-EC3F-36FD-AAA3-2C6C7F8D3DD9> /Users/chiuchiu/pytorch-new/env/lib/python3.11/site-packages/torchvision/image.so\n",
      "  Expected in:     <E459C462-F863-3A5A-AC9F-FD77B14BE845> /Users/chiuchiu/pytorch-new/env/lib/python3.11/site-packages/torch/lib/libtorch_cpu.dylib'If you don't plan on using image functionality from `torchvision.io`, you can ignore this warning. Otherwise, there might be something wrong with your environment. Did you have `libjpeg` or `libpng` installed before building `torchvision` from source?\n",
      "  warn(\n"
     ]
    }
   ],
   "source": [
    "import models.StyTR  as StyTR \n",
    "vgg = StyTR.vgg"
   ]
  },
  {
   "cell_type": "code",
   "execution_count": 2,
   "metadata": {},
   "outputs": [
    {
     "name": "stdout",
     "output_type": "stream",
     "text": [
      "Sequential(\n",
      "  (0): Conv2d(3, 3, kernel_size=(1, 1), stride=(1, 1))\n",
      "  (1): ReflectionPad2d((1, 1, 1, 1))\n",
      "  (2): Conv2d(3, 64, kernel_size=(3, 3), stride=(1, 1))\n",
      "  (3): ReLU()\n",
      "  (4): ReflectionPad2d((1, 1, 1, 1))\n",
      "  (5): Conv2d(64, 64, kernel_size=(3, 3), stride=(1, 1))\n",
      "  (6): ReLU()\n",
      "  (7): MaxPool2d(kernel_size=(2, 2), stride=(2, 2), padding=(0, 0), dilation=1, ceil_mode=True)\n",
      "  (8): ReflectionPad2d((1, 1, 1, 1))\n",
      "  (9): Conv2d(64, 128, kernel_size=(3, 3), stride=(1, 1))\n",
      "  (10): ReLU()\n",
      "  (11): ReflectionPad2d((1, 1, 1, 1))\n",
      "  (12): Conv2d(128, 128, kernel_size=(3, 3), stride=(1, 1))\n",
      "  (13): ReLU()\n",
      "  (14): MaxPool2d(kernel_size=(2, 2), stride=(2, 2), padding=(0, 0), dilation=1, ceil_mode=True)\n",
      "  (15): ReflectionPad2d((1, 1, 1, 1))\n",
      "  (16): Conv2d(128, 256, kernel_size=(3, 3), stride=(1, 1))\n",
      "  (17): ReLU()\n",
      "  (18): ReflectionPad2d((1, 1, 1, 1))\n",
      "  (19): Conv2d(256, 256, kernel_size=(3, 3), stride=(1, 1))\n",
      "  (20): ReLU()\n",
      "  (21): ReflectionPad2d((1, 1, 1, 1))\n",
      "  (22): Conv2d(256, 256, kernel_size=(3, 3), stride=(1, 1))\n",
      "  (23): ReLU()\n",
      "  (24): ReflectionPad2d((1, 1, 1, 1))\n",
      "  (25): Conv2d(256, 256, kernel_size=(3, 3), stride=(1, 1))\n",
      "  (26): ReLU()\n",
      "  (27): MaxPool2d(kernel_size=(2, 2), stride=(2, 2), padding=(0, 0), dilation=1, ceil_mode=True)\n",
      "  (28): ReflectionPad2d((1, 1, 1, 1))\n",
      "  (29): Conv2d(256, 512, kernel_size=(3, 3), stride=(1, 1))\n",
      "  (30): ReLU()\n",
      "  (31): ReflectionPad2d((1, 1, 1, 1))\n",
      "  (32): Conv2d(512, 512, kernel_size=(3, 3), stride=(1, 1))\n",
      "  (33): ReLU()\n",
      "  (34): ReflectionPad2d((1, 1, 1, 1))\n",
      "  (35): Conv2d(512, 512, kernel_size=(3, 3), stride=(1, 1))\n",
      "  (36): ReLU()\n",
      "  (37): ReflectionPad2d((1, 1, 1, 1))\n",
      "  (38): Conv2d(512, 512, kernel_size=(3, 3), stride=(1, 1))\n",
      "  (39): ReLU()\n",
      "  (40): MaxPool2d(kernel_size=(2, 2), stride=(2, 2), padding=(0, 0), dilation=1, ceil_mode=True)\n",
      "  (41): ReflectionPad2d((1, 1, 1, 1))\n",
      "  (42): Conv2d(512, 512, kernel_size=(3, 3), stride=(1, 1))\n",
      "  (43): ReLU()\n",
      "  (44): ReflectionPad2d((1, 1, 1, 1))\n",
      "  (45): Conv2d(512, 512, kernel_size=(3, 3), stride=(1, 1))\n",
      "  (46): ReLU()\n",
      "  (47): ReflectionPad2d((1, 1, 1, 1))\n",
      "  (48): Conv2d(512, 512, kernel_size=(3, 3), stride=(1, 1))\n",
      "  (49): ReLU()\n",
      "  (50): ReflectionPad2d((1, 1, 1, 1))\n",
      "  (51): Conv2d(512, 512, kernel_size=(3, 3), stride=(1, 1))\n",
      "  (52): ReLU()\n",
      ")\n"
     ]
    }
   ],
   "source": [
    "print(vgg)"
   ]
  },
  {
   "cell_type": "code",
   "execution_count": 4,
   "metadata": {},
   "outputs": [],
   "source": [
    "vgg = nn.Sequential(*list(vgg.children())[:44])"
   ]
  },
  {
   "cell_type": "code",
   "execution_count": 5,
   "metadata": {},
   "outputs": [
    {
     "name": "stdout",
     "output_type": "stream",
     "text": [
      "Sequential(\n",
      "  (0): Conv2d(3, 3, kernel_size=(1, 1), stride=(1, 1))\n",
      "  (1): ReflectionPad2d((1, 1, 1, 1))\n",
      "  (2): Conv2d(3, 64, kernel_size=(3, 3), stride=(1, 1))\n",
      "  (3): ReLU()\n",
      "  (4): ReflectionPad2d((1, 1, 1, 1))\n",
      "  (5): Conv2d(64, 64, kernel_size=(3, 3), stride=(1, 1))\n",
      "  (6): ReLU()\n",
      "  (7): MaxPool2d(kernel_size=(2, 2), stride=(2, 2), padding=(0, 0), dilation=1, ceil_mode=True)\n",
      "  (8): ReflectionPad2d((1, 1, 1, 1))\n",
      "  (9): Conv2d(64, 128, kernel_size=(3, 3), stride=(1, 1))\n",
      "  (10): ReLU()\n",
      "  (11): ReflectionPad2d((1, 1, 1, 1))\n",
      "  (12): Conv2d(128, 128, kernel_size=(3, 3), stride=(1, 1))\n",
      "  (13): ReLU()\n",
      "  (14): MaxPool2d(kernel_size=(2, 2), stride=(2, 2), padding=(0, 0), dilation=1, ceil_mode=True)\n",
      "  (15): ReflectionPad2d((1, 1, 1, 1))\n",
      "  (16): Conv2d(128, 256, kernel_size=(3, 3), stride=(1, 1))\n",
      "  (17): ReLU()\n",
      "  (18): ReflectionPad2d((1, 1, 1, 1))\n",
      "  (19): Conv2d(256, 256, kernel_size=(3, 3), stride=(1, 1))\n",
      "  (20): ReLU()\n",
      "  (21): ReflectionPad2d((1, 1, 1, 1))\n",
      "  (22): Conv2d(256, 256, kernel_size=(3, 3), stride=(1, 1))\n",
      "  (23): ReLU()\n",
      "  (24): ReflectionPad2d((1, 1, 1, 1))\n",
      "  (25): Conv2d(256, 256, kernel_size=(3, 3), stride=(1, 1))\n",
      "  (26): ReLU()\n",
      "  (27): MaxPool2d(kernel_size=(2, 2), stride=(2, 2), padding=(0, 0), dilation=1, ceil_mode=True)\n",
      "  (28): ReflectionPad2d((1, 1, 1, 1))\n",
      "  (29): Conv2d(256, 512, kernel_size=(3, 3), stride=(1, 1))\n",
      "  (30): ReLU()\n",
      "  (31): ReflectionPad2d((1, 1, 1, 1))\n",
      "  (32): Conv2d(512, 512, kernel_size=(3, 3), stride=(1, 1))\n",
      "  (33): ReLU()\n",
      "  (34): ReflectionPad2d((1, 1, 1, 1))\n",
      "  (35): Conv2d(512, 512, kernel_size=(3, 3), stride=(1, 1))\n",
      "  (36): ReLU()\n",
      "  (37): ReflectionPad2d((1, 1, 1, 1))\n",
      "  (38): Conv2d(512, 512, kernel_size=(3, 3), stride=(1, 1))\n",
      "  (39): ReLU()\n",
      "  (40): MaxPool2d(kernel_size=(2, 2), stride=(2, 2), padding=(0, 0), dilation=1, ceil_mode=True)\n",
      "  (41): ReflectionPad2d((1, 1, 1, 1))\n",
      "  (42): Conv2d(512, 512, kernel_size=(3, 3), stride=(1, 1))\n",
      "  (43): ReLU()\n",
      ")\n"
     ]
    }
   ],
   "source": [
    "print(vgg)"
   ]
  }
 ],
 "metadata": {
  "kernelspec": {
   "display_name": "Python 3",
   "language": "python",
   "name": "python3"
  },
  "language_info": {
   "codemirror_mode": {
    "name": "ipython",
    "version": 3
   },
   "file_extension": ".py",
   "mimetype": "text/x-python",
   "name": "python",
   "nbconvert_exporter": "python",
   "pygments_lexer": "ipython3",
   "version": "3.11.5"
  }
 },
 "nbformat": 4,
 "nbformat_minor": 2
}
